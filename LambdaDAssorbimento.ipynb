{
  "nbformat": 4,
  "nbformat_minor": 0,
  "metadata": {
    "colab": {
      "name": "Copia di Alberto plot lambda 2.ipynb",
      "provenance": [],
      "collapsed_sections": []
    },
    "kernelspec": {
      "name": "python3",
      "display_name": "Python 3"
    },
    "language_info": {
      "name": "python"
    }
  },
  "cells": [
    {
      "cell_type": "code",
      "metadata": {
        "id": "j3TsL5mJXg5E",
        "colab": {
          "base_uri": "https://localhost:8080/",
          "height": 354
        },
        "outputId": "7f985c68-bda7-4c96-d1a9-fe7dfcd2b3ee"
      },
      "source": [
        " \n",
        "from google.colab import drive\n",
        "drive.mount('/content/drive')\n",
        " \n",
        "%cd /content/drive/Shareddrives/BL4S/Colab Notebooks/\n",
        "#!ls\n",
        " \n",
        " \n",
        "import numpy as np\n",
        "import matplotlib.pyplot as plt\n",
        "\n",
        "\n",
        "#ep, ea, es valori energia in MeV\n",
        "ep1, kp = np.loadtxt(\"Poly.txt\", unpack=True, usecols=(0,1))\n",
        "ea1, ka = np.loadtxt(\"Air.txt\", unpack=True, usecols=(0,1))\n",
        "es1, ks = np.loadtxt(\"Si.txt\", unpack=True, usecols=(0,1) )\n",
        "# kp o ka o ks è la quantità mu/rho nella seconda colonna del file riportato al link https://physics.nist.gov/PhysRefData/XrayMassCoef/tab4.html. \n",
        "#In questa colonna è riportato il reciproco della lunghezza di attenuazione.\n",
        "# Per avere la lunghezza di attenuazione, che indico con lambda, occorre moltiplicare k per rho e farne il reciproco, cioè lam=1/(k*rho)\n",
        "\n",
        "#loge= np.log(e)\n",
        "#print (loge)\n",
        "#Polietilene: densità 0.9 g/cm^3\n",
        "rhop = 0.9 \n",
        "#Aria a 20 gradi Celsius\n",
        "rhoa= 0.0012\n",
        "rhos= 2.3290\n",
        "lamp= 1/(rhop*kp)\n",
        "lama= 1/(rhoa*ka)\n",
        "lams = 1/(rhos*ks)\n",
        "\n",
        "ep = ep1\n",
        "ea = ea1\n",
        "es = es1\n",
        "\n",
        "# ep  = []\n",
        "# ea = []\n",
        "# es = []\n",
        "# lamp = list(lamp)\n",
        "# lama = list(lama)\n",
        "# lams = list(lams)\n",
        "\n",
        "# def kev():\n",
        "  \n",
        "#   for elem in ep1:\n",
        "#     if elem < 0.02:\n",
        "#       ep.append(elem)\n",
        "#   for j in range(len(lamp)-len(ep)):\n",
        "#     lamp.pop()\n",
        "#   for elem in ea1:\n",
        "#     if elem < 0.02:\n",
        "#       ea.append(elem)\n",
        "#   for j in range(len(lama)-len(ea)):\n",
        "#     lama.pop()\n",
        "#   for elem in es1:\n",
        "#     if elem < 0.02:\n",
        "#       es.append(elem)\n",
        "#   for j in range(len(lams)-len(es)):\n",
        "#     lams.pop()\n",
        "       \n",
        "# def kevnp():\n",
        "#   ep = np.zeros(1)\n",
        "#   ea = np.zeros(1)\n",
        "#   es  = np.zeros(1)\n",
        "#   for elem in ep1:\n",
        "#     print(elem)\n",
        "#     if elem < 0.02:\n",
        "#       np.insert(ep,len(ep),elem)\n",
        "#   print(ep)\n",
        "#   while not len(ep) == len(lamp):\n",
        "#     np.delete(lamp,-1)\n",
        "#   for elem in ea1:\n",
        "#     if elem < 0.02:\n",
        "#       np.insert(ea,len(ea),elem)\n",
        "#   while not len(ea) == len(lama):\n",
        "#     np.delete(lama,(len(lama)-1))\n",
        "#   for elem in es1:\n",
        "#     if elem < 0.02:\n",
        "#       np.insert(es,len(es),elem)\n",
        "#   while not len(es) == len(lams):\n",
        "#     np.delete(lamsp,(len(lams)-1))\n",
        "\n",
        "\n",
        "def print_values():\n",
        "  print (f'ep:{ep}')\n",
        "  print (f'ea:{ea}')\n",
        "  print (f'es:{es}')\n",
        "  print (f'kp:{kp}')\n",
        "  print (f'ka:{ka}')\n",
        "  print (f'ks:{ks}')\n",
        "  print (f'lamp: {lamp}')\n",
        "  print (f'lama: {lama}')\n",
        "  print (f'lams: {lams}')\n",
        "\n",
        "fig0,ax0=plt.subplots(1)\n",
        "ax0.plot(ep,lamp, label=\"Polye\")\n",
        "ax0.plot(ea,lama, label=\"Air\")\n",
        "ax0.plot(es,lams, label=\"Silicon\")\n",
        "ax0.set_xscale(\"log\")\n",
        "ax0.set_yscale(\"log\")\n",
        "plt.xlim(0.,0.02)\n",
        "ax0.set_xlabel (\"energy (MeV)\")\n",
        "ax0.set_ylabel (chr(955)+\" (cm)\")\n",
        "ax0.legend()\n",
        "plt.show()"
      ],
      "execution_count": null,
      "outputs": [
        {
          "output_type": "stream",
          "text": [
            "Drive already mounted at /content/drive; to attempt to forcibly remount, call drive.mount(\"/content/drive\", force_remount=True).\n",
            "/content/drive/Shareddrives/BL4S/Colab Notebooks\n"
          ],
          "name": "stdout"
        },
        {
          "output_type": "stream",
          "text": [
            "/usr/local/lib/python3.7/dist-packages/ipykernel_launcher.py:101: UserWarning: Attempted to set non-positive left xlim on a log-scaled axis.\n",
            "Invalid limit will be ignored.\n"
          ],
          "name": "stderr"
        },
        {
          "output_type": "display_data",
          "data": {
            "image/png": "[encoded data removed]",
            "text/plain": [
              "<Figure size 432x288 with 1 Axes>"
            ]
          },
          "metadata": {
            "tags": [],
            "needs_background": "light"
          }
        }
      ]
    }
  ]
}